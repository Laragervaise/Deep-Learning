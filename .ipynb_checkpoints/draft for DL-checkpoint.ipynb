{
 "cells": [
  {
   "cell_type": "code",
   "execution_count": null,
   "metadata": {},
   "outputs": [],
   "source": [
    "# Softmax activation function\n",
    "class Softmax(Module):\n",
    "    \n",
    "    def __init__(self):\n",
    "        super().__init__()\n",
    "        \n",
    "    def forward(self, x):\n",
    "        self.x = x\n",
    "        return (x-x.max()).exp()/(x-x.max).exp().sum()         # Softmax function stabilized by taking x = x-max(x)\n",
    "    \n",
    "    def backward(self, prev_grad):\n",
    "        self.prev_grad = prev_grad                                         # Cache the gradient at the output\n",
    "        softmax_x = (self.x-self.x.max).exp()/(self.x-self.x.max()).exp().sum())   # Softmax of x\n",
    "        curr_grad = prev_grad * ((softmax_x)(1-softmax_x))  # Current gradient if i=j\n",
    "        return curr_grad\n",
    "    \n",
    "    def step(self, lr):\n",
    "        pass"
   ]
  },
  {
   "cell_type": "code",
   "execution_count": null,
   "metadata": {},
   "outputs": [],
   "source": [
    "class LossCrossEntropy(Module): \n",
    "    def __init__(self):\n",
    "        self.p = None\n",
    "        self.t = None\n",
    "        \n",
    "    def forward(self, preds, target):\n",
    "        self.p = self.softmax(preds)\n",
    "        self.t = target\n",
    "        return -sum(self.t * self.p.log())\n",
    "        \n",
    "    def backward(self):\n",
    "        return (self.p-self.t)\n",
    "        \n",
    "    def step(self, lr):\n",
    "        pass"
   ]
  },
  {
   "cell_type": "code",
   "execution_count": null,
   "metadata": {},
   "outputs": [],
   "source": [
    "def entropy_loss(self,y, yhat):\n",
    "        nsample = len(y)\n",
    "        loss = -1/nsample * (np.sum(np.multiply(np.log(yhat), y) + np.multiply((1 - y), np.log(1 - yhat))))\n",
    "        return loss"
   ]
  }
 ],
 "metadata": {
  "kernelspec": {
   "display_name": "Python 3",
   "language": "python",
   "name": "python3"
  },
  "language_info": {
   "codemirror_mode": {
    "name": "ipython",
    "version": 3
   },
   "file_extension": ".py",
   "mimetype": "text/x-python",
   "name": "python",
   "nbconvert_exporter": "python",
   "pygments_lexer": "ipython3",
   "version": "3.6.3"
  }
 },
 "nbformat": 4,
 "nbformat_minor": 2
}
